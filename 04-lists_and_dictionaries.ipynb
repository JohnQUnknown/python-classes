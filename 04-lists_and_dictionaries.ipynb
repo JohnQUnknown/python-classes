{
 "cells": [
  {
   "cell_type": "markdown",
   "metadata": {},
   "source": [
    "# List and dictionaries\n",
    "\n",
    "Among the many data structures in Python, lists and dictionaries are perhaps the most common, this might be because of their versatility, truth is that we can use these structures in many different and powerful ways to represent many kinds of data.\n",
    "\n",
    "Lists, as the name implies, are ordered collections of data that can be accessed by index, unlike with other programming languages such as Javascript, the data does not need to be of the same data type, this means that we can have lists that contain strings, integers, floats, and even other lists or dictionaries."
   ]
  },
  {
   "cell_type": "code",
   "execution_count": 43,
   "metadata": {},
   "outputs": [
    {
     "name": "stdout",
     "output_type": "stream",
     "text": [
      "=== Iterating over the list ===\n",
      "red\n",
      "green\n",
      "blue\n",
      "yellow\n",
      "orange\n",
      "purple\n",
      "=== Printing one of the colours by referencing the index ===\n",
      "blue\n",
      "=== Printing the list after adding a colour ===\n",
      "['red', 'green', 'blue', 'yellow', 'orange', 'purple', 'black']\n"
     ]
    }
   ],
   "source": [
    "# Define a list of colours\n",
    "colours = ['red', 'green', 'blue', 'yellow', 'orange', 'purple']\n",
    "\n",
    "# We can print these values one by one by iterating over the list\n",
    "print('=== Iterating over the list ===')\n",
    "for colour in colours:\n",
    "    print(colour)\n",
    "\n",
    "# But we can also print just one of them by referencing the index\n",
    "print('=== Printing one of the colours by referencing the index ===')\n",
    "print(colours[2])\n",
    "\n",
    "# Lists, just like vectors or arrays in other languages, start on index 0\n",
    "# So the first colour is at index 0, the second at index 1, etc.\n",
    "\n",
    "# But we also can add more colours to the list\n",
    "colours.append('black')\n",
    "print('=== Printing the list after adding a colour ===')\n",
    "print(colours)"
   ]
  },
  {
   "cell_type": "code",
   "execution_count": 44,
   "metadata": {},
   "outputs": [
    {
     "name": "stdout",
     "output_type": "stream",
     "text": [
      "=== Printing a random colour ===\n",
      "blue\n"
     ]
    }
   ],
   "source": [
    "# Let's play a little and print a color at random\n",
    "from random import randrange\n",
    "random_index = randrange(0, len(colours))\n",
    "print('=== Printing a random colour ===')\n",
    "print(colours[random_index])"
   ]
  },
  {
   "cell_type": "markdown",
   "metadata": {},
   "source": [
    "In the previous example we used the `len()` function, this gets the lenght of an _iterable_ item and returns an _int_ value. There are many more methods we can apply to lists, but for now we will focus on the most common ones. If you want to learn more about the methods available to you, you can check out the documentation for the list class in Python or use the `dir()` function to see what methods are available to you."
   ]
  },
  {
   "cell_type": "code",
   "execution_count": 45,
   "metadata": {},
   "outputs": [
    {
     "name": "stdout",
     "output_type": "stream",
     "text": [
      "=== List methods ===\n",
      "['__add__', '__class__', '__contains__', '__delattr__', '__delitem__', '__dir__', '__doc__', '__eq__', '__format__', '__ge__', '__getattribute__', '__getitem__', '__gt__', '__hash__', '__iadd__', '__imul__', '__init__', '__init_subclass__', '__iter__', '__le__', '__len__', '__lt__', '__mul__', '__ne__', '__new__', '__reduce__', '__reduce_ex__', '__repr__', '__reversed__', '__rmul__', '__setattr__', '__setitem__', '__sizeof__', '__str__', '__subclasshook__', 'append', 'clear', 'copy', 'count', 'extend', 'index', 'insert', 'pop', 'remove', 'reverse', 'sort']\n"
     ]
    }
   ],
   "source": [
    "# Let's find our the methods of the list class\n",
    "print('=== List methods ===')\n",
    "print(dir(colours))"
   ]
  },
  {
   "cell_type": "markdown",
   "metadata": {},
   "source": [
    "As mentioned earlier, we can add different types of data to a list using the `append()` method, this will add the data to the end of the list."
   ]
  },
  {
   "cell_type": "code",
   "execution_count": 46,
   "metadata": {},
   "outputs": [
    {
     "name": "stdout",
     "output_type": "stream",
     "text": [
      "=== Printing the mixed list after adding a new item ===\n",
      "[1, 'two', 3.0, 'four', 5, 'six', 7.0, 'eight', 9, ['ten', 11, 12.0], 'thirteen']\n"
     ]
    }
   ],
   "source": [
    "# Define a mixed list\n",
    "mixed_list = [1, 'two', 3.0, 'four', 5, 'six', 7.0, 'eight', 9, ['ten', 11, 12.0]]\n",
    "\n",
    "# Add a new item to the end of the list\n",
    "mixed_list.append('thirteen')\n",
    "print('=== Printing the mixed list after adding a new item ===')\n",
    "print(mixed_list)"
   ]
  },
  {
   "cell_type": "markdown",
   "metadata": {},
   "source": [
    "And, as we can see in the output of the `dir()` function, we can also sort the list using the `sort()` method, reverse the order of the list using the `reverse()` method, and remove items from the list using the `remove()` method."
   ]
  },
  {
   "cell_type": "code",
   "execution_count": 47,
   "metadata": {},
   "outputs": [
    {
     "name": "stdout",
     "output_type": "stream",
     "text": [
      "=== Printing the sorted colours list ===\n",
      "['black', 'blue', 'green', 'orange', 'purple', 'red', 'yellow']\n",
      "=== Printing the reversed colours list ===\n",
      "['yellow', 'red', 'purple', 'orange', 'green', 'blue', 'black']\n",
      "=== Printing the colours list after removing the last item ===\n",
      "['yellow', 'red', 'purple', 'orange', 'green', 'blue']\n"
     ]
    }
   ],
   "source": [
    "# Let's sort our colours list\n",
    "colours.sort()\n",
    "print('=== Printing the sorted colours list ===')\n",
    "print(colours)\n",
    "\n",
    "# But then we can reverse it\n",
    "colours.reverse()\n",
    "print('=== Printing the reversed colours list ===')\n",
    "print(colours)\n",
    "\n",
    "# And we can remove the last item\n",
    "colours.pop()\n",
    "print('=== Printing the colours list after removing the last item ===')\n",
    "print(colours)\n"
   ]
  },
  {
   "cell_type": "markdown",
   "metadata": {},
   "source": [
    "Similar to lists, dictionaries are also ordered collections of data, but unlike lists, the data in a dictionary is accessed by key, which is a unique identifier for each piece of data, and normally they reference a single item in a collection, this can represent a row in a database or an entry in a set of data, this means that if you need to define a list of objects you will technically have a list of dictionares (which can themselves contain other lists)."
   ]
  },
  {
   "cell_type": "code",
   "execution_count": 48,
   "metadata": {},
   "outputs": [
    {
     "name": "stdout",
     "output_type": "stream",
     "text": [
      "=== Printing the schedule ===\n",
      "{'Monday': 'Go to the gym', 'Tuesday': 'Do some coding', 'Wednesday': 'Go to the gym', 'Thursday': 'Do some coding', 'Friday': 'Go to the gym', 'Saturday': 'Do some coding', 'Sunday': 'Go to the gym'}\n"
     ]
    }
   ],
   "source": [
    "# Let's define a dictionary representing a schedule, with the day of the week as key and the activity as value.\n",
    "schedule = {\n",
    "    'Monday': 'Go to the gym',\n",
    "    'Tuesday': 'Do some coding',\n",
    "    'Wednesday': 'Go to the gym',\n",
    "    'Thursday': 'Do some coding',\n",
    "    'Friday': 'Go to the gym',\n",
    "    'Saturday': 'Do some coding',\n",
    "    'Sunday': 'Go to the gym'\n",
    "}\n",
    "\n",
    "print('=== Printing the schedule ===')\n",
    "print(schedule)"
   ]
  },
  {
   "cell_type": "markdown",
   "metadata": {},
   "source": [
    "As shown in the code above, a dictionary is typically used to represent a set of data that is related to a single item, for example, a user profile, or a list of items that are related to a single object.\n",
    "But what happens if we want to define several objects that are related to each other, for example, a list of users, or a list of items that are related to a single user? We can define a list of dictionaries, where each dictionary contains data that is related to a single object, being able to access a single dictionary by the list index and then access the data in the dictionary using the key."
   ]
  },
  {
   "cell_type": "code",
   "execution_count": 49,
   "metadata": {},
   "outputs": [
    {
     "name": "stdout",
     "output_type": "stream",
     "text": [
      "=== Iterating over the list of schedules ===\n",
      "\n",
      "    Schedule for user 0:\n",
      "    {'Monday': 'compress', 'Tuesday': 'program', 'Wednesday': 'input', 'Thursday': 'parse', 'Friday': 'connect', 'Saturday': 'hack', 'Sunday': 'calculatem'}\n",
      "    --------------------------------------------------\n",
      "    \n",
      "\n",
      "    Schedule for user 1:\n",
      "    {'Monday': 'copy', 'Tuesday': 'navigate', 'Wednesday': 'bypass', 'Thursday': 'synthesize', 'Friday': 'synthesize', 'Saturday': 'navigate', 'Sunday': 'synthesizem'}\n",
      "    --------------------------------------------------\n",
      "    \n",
      "\n",
      "    Schedule for user 2:\n",
      "    {'Monday': 'synthesize', 'Tuesday': 'generate', 'Wednesday': 'transmit', 'Thursday': 'copy', 'Friday': 'hack', 'Saturday': 'navigate', 'Sunday': 'program'}\n",
      "    --------------------------------------------------\n",
      "    \n"
     ]
    }
   ],
   "source": [
    "# We'll define a list of schedules to represent several users\n",
    "schedules = [\n",
    "    {\n",
    "        'Monday': 'compress',\n",
    "        'Tuesday': 'program',\n",
    "        'Wednesday': 'input',\n",
    "        'Thursday': 'parse',\n",
    "        'Friday': 'connect',\n",
    "        'Saturday': 'hack',\n",
    "        'Sunday': 'calculatem'\n",
    "    },\n",
    "    {\n",
    "        'Monday': 'copy',\n",
    "        'Tuesday': 'navigate',\n",
    "        'Wednesday': 'bypass',\n",
    "        'Thursday': 'synthesize',\n",
    "        'Friday': 'synthesize',\n",
    "        'Saturday': 'navigate',\n",
    "        'Sunday': 'synthesizem'\n",
    "    },\n",
    "    {\n",
    "        'Monday': 'synthesize',\n",
    "        'Tuesday': 'generate',\n",
    "        'Wednesday': 'transmit',\n",
    "        'Thursday': 'copy',\n",
    "        'Friday': 'hack',\n",
    "        'Saturday': 'navigate',\n",
    "        'Sunday': 'program'\n",
    "    }\n",
    "]\n",
    "\n",
    "# Then we can iterate over the list of schedules and print the schedule for each user\n",
    "print('=== Iterating over the list of schedules ===')\n",
    "for index, schedule in enumerate(schedules):\n",
    "    print(f\"\"\"\n",
    "    Schedule for user {index}:\n",
    "    {schedule}\n",
    "    {'-'*50}\n",
    "    \"\"\")"
   ]
  },
  {
   "cell_type": "markdown",
   "metadata": {},
   "source": [
    "That's so cool, isn't it? But what happens if we want a specific piece of data from a dictionary? We can specify the key we want to access using the `[]` operator, and the value of the key will be returned.\n",
    "To do this we can either iterate over the list or define an index for the item we want to access, for example, the user profile of the first user in the list."
   ]
  },
  {
   "cell_type": "code",
   "execution_count": 50,
   "metadata": {},
   "outputs": [
    {
     "name": "stdout",
     "output_type": "stream",
     "text": [
      "=== Getting the schedule for the first user for Wednesday ===\n",
      "input\n",
      "=== Getting the schedule for the second user for Thursday ===\n",
      "synthesize\n"
     ]
    }
   ],
   "source": [
    "# Get the schedule for the first user for Wednesday\n",
    "print('=== Getting the schedule for the first user for Wednesday ===')\n",
    "print(schedules[0]['Wednesday'])\n",
    "\n",
    "# Get the schedule for the second user for Thursday\n",
    "print('=== Getting the schedule for the second user for Thursday ===')\n",
    "print(schedules[1]['Thursday'])"
   ]
  },
  {
   "cell_type": "markdown",
   "metadata": {},
   "source": [
    "Remember, every item in Python has a list of methods available to it, we can use the `dir()` function to see what methods are available to us."
   ]
  },
  {
   "cell_type": "code",
   "execution_count": 51,
   "metadata": {},
   "outputs": [
    {
     "name": "stdout",
     "output_type": "stream",
     "text": [
      "=== Dictionary methods ===\n",
      "['__class__', '__contains__', '__delattr__', '__delitem__', '__dir__', '__doc__', '__eq__', '__format__', '__ge__', '__getattribute__', '__getitem__', '__gt__', '__hash__', '__init__', '__init_subclass__', '__iter__', '__le__', '__len__', '__lt__', '__ne__', '__new__', '__reduce__', '__reduce_ex__', '__repr__', '__reversed__', '__setattr__', '__setitem__', '__sizeof__', '__str__', '__subclasshook__', 'clear', 'copy', 'fromkeys', 'get', 'items', 'keys', 'pop', 'popitem', 'setdefault', 'update', 'values']\n"
     ]
    }
   ],
   "source": [
    "# Print the method names of the dictionary class\n",
    "print('=== Dictionary methods ===')\n",
    "print(dir(schedule))"
   ]
  },
  {
   "cell_type": "code",
   "execution_count": 52,
   "metadata": {},
   "outputs": [
    {
     "name": "stdout",
     "output_type": "stream",
     "text": [
      "=== Iterating over the list of schedules ===\n",
      "\n",
      "    Schedule for user 0:\n",
      "    Monday: compress\n",
      "    Tuesday: program\n",
      "    Wednesday: input\n",
      "    Thursday: parse\n",
      "    Friday: connect\n",
      "    Saturday: hack\n",
      "    Sunday: calculatem\n",
      "    --------------------------------------------------\n",
      "    \n",
      "\n",
      "    Schedule for user 1:\n",
      "    Monday: copy\n",
      "    Tuesday: navigate\n",
      "    Wednesday: bypass\n",
      "    Thursday: synthesize\n",
      "    Friday: synthesize\n",
      "    Saturday: navigate\n",
      "    Sunday: synthesizem\n",
      "    --------------------------------------------------\n",
      "    \n",
      "\n",
      "    Schedule for user 2:\n",
      "    Monday: synthesize\n",
      "    Tuesday: generate\n",
      "    Wednesday: transmit\n",
      "    Thursday: copy\n",
      "    Friday: hack\n",
      "    Saturday: navigate\n",
      "    Sunday: program\n",
      "    --------------------------------------------------\n",
      "    \n"
     ]
    }
   ],
   "source": [
    "# Now let's play a little, we'll iterate over the list and print the activity for each day of the week\n",
    "print('=== Iterating over the list of schedules ===')\n",
    "for index, schedule in enumerate(schedules):\n",
    "    print(f\"\"\"\n",
    "    Schedule for user {index}:\n",
    "    Monday: {schedule['Monday']}\n",
    "    Tuesday: {schedule['Tuesday']}\n",
    "    Wednesday: {schedule['Wednesday']}\n",
    "    Thursday: {schedule['Thursday']}\n",
    "    Friday: {schedule['Friday']}\n",
    "    Saturday: {schedule['Saturday']}\n",
    "    Sunday: {schedule['Sunday']}\n",
    "    {'-'*50}\n",
    "    \"\"\")"
   ]
  }
 ],
 "metadata": {
  "interpreter": {
   "hash": "9f742384696c4f177bb1da80db38cdc0e70212f7e087094cdd5ad8f5d1035388"
  },
  "kernelspec": {
   "display_name": "Python 3.8.10 64-bit ('.env': venv)",
   "name": "python3"
  },
  "language_info": {
   "codemirror_mode": {
    "name": "ipython",
    "version": 3
   },
   "file_extension": ".py",
   "mimetype": "text/x-python",
   "name": "python",
   "nbconvert_exporter": "python",
   "pygments_lexer": "ipython3",
   "version": "3.8.10"
  },
  "orig_nbformat": 4
 },
 "nbformat": 4,
 "nbformat_minor": 2
}
