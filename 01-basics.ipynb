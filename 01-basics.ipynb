{
 "cells": [
  {
   "cell_type": "markdown",
   "metadata": {},
   "source": [
    "# Python basics\n",
    "\n",
    "Python is a general purpose and very versatile language that's easy to learn and can help you build almost anything you can imagine, from small command-line applications and utilities to big and complex machine learning applications for data science.\n",
    "In these examples we'll go through the basics of Python in an interactive way."
   ]
  },
  {
   "cell_type": "markdown",
   "metadata": {},
   "source": [
    "First let's define some variables and then we'll check their type of variable."
   ]
  },
  {
   "cell_type": "code",
   "execution_count": null,
   "metadata": {},
   "outputs": [],
   "source": [
    "name = 'John Smith'\n",
    "age = 25\n",
    "school_average = 7.9\n",
    "fav_fruit = ['mangoes', 'kiwis', 'bananas', 'oranges']\n",
    "gym_routines = {\n",
    "    'Monday': 'Jogging',\n",
    "    'Tuesday': 'Leg day',\n",
    "    'Wednesday': 'Biceps',\n",
    "    'Thursday': 'Aerobics',\n",
    "    'Friday': 'Yoga',\n",
    "    'Saturday': 'Free day',\n",
    "    'Sunday': 'Lazy day'\n",
    "}"
   ]
  },
  {
   "cell_type": "code",
   "execution_count": null,
   "metadata": {},
   "outputs": [],
   "source": [
    "print(f\"\"\"\n",
    "This is the type of all the variables we defined above:\n",
    "    name is {type(name)}\n",
    "    age is {type(age)}\n",
    "    school_average is {type(school_average)}\n",
    "    fav_fruit is {type(fav_fruit)}\n",
    "    gym_routines is {type(gym_routines)}\n",
    "\"\"\")"
   ]
  }
 ],
 "metadata": {
  "interpreter": {
   "hash": "31f2aee4e71d21fbe5cf8b01ff0e069b9275f58929596ceb00d14d90e3e16cd6"
  },
  "kernelspec": {
   "display_name": "Python 3.8.10 64-bit",
   "name": "python3"
  },
  "language_info": {
   "codemirror_mode": {
    "name": "ipython",
    "version": 3
   },
   "file_extension": ".py",
   "mimetype": "text/x-python",
   "name": "python",
   "nbconvert_exporter": "python",
   "pygments_lexer": "ipython3",
   "version": "3.8.10"
  },
  "orig_nbformat": 4
 },
 "nbformat": 4,
 "nbformat_minor": 2
}
