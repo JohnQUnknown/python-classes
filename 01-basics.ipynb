{
 "cells": [
  {
   "cell_type": "markdown",
   "metadata": {},
   "source": [
    "# Python basics\n",
    "\n",
    "Python is a general purpose and very versatile language that's easy to learn and can help you build almost anything you can imagine, from small command-line applications and utilities to big and complex machine learning applications for data science.\n",
    "In these examples we'll go through the basics of Python in an interactive way."
   ]
  },
  {
   "cell_type": "markdown",
   "metadata": {},
   "source": [
    "First let's define some variables and then we'll check their type of variable."
   ]
  },
  {
   "cell_type": "code",
   "execution_count": 1,
   "metadata": {},
   "outputs": [],
   "source": [
    "name = 'John Smith'\n",
    "age = 25\n",
    "school_average = 7.9\n",
    "fav_fruit = ['mangoes', 'kiwis', 'bananas', 'oranges']\n",
    "gym_routines = {\n",
    "    'Monday': 'Jogging',\n",
    "    'Tuesday': 'Leg day',\n",
    "    'Wednesday': 'Biceps',\n",
    "    'Thursday': 'Aerobics',\n",
    "    'Friday': 'Yoga',\n",
    "    'Saturday': 'Free day',\n",
    "    'Sunday': 'Lazy day'\n",
    "}"
   ]
  },
  {
   "cell_type": "code",
   "execution_count": 2,
   "metadata": {},
   "outputs": [
    {
     "name": "stdout",
     "output_type": "stream",
     "text": [
      "\n",
      "This is the type of all the variables we defined above:\n",
      "    name is <class 'str'>\n",
      "    age is <class 'int'>\n",
      "    school_average is <class 'float'>\n",
      "    fav_fruit is <class 'list'>\n",
      "    gym_routines is <class 'dict'>\n",
      "\n"
     ]
    }
   ],
   "source": [
    "print(f\"\"\"\n",
    "This is the type of all the variables we defined above:\n",
    "    name is {type(name)}\n",
    "    age is {type(age)}\n",
    "    school_average is {type(school_average)}\n",
    "    fav_fruit is {type(fav_fruit)}\n",
    "    gym_routines is {type(gym_routines)}\n",
    "\"\"\")"
   ]
  },
  {
   "cell_type": "markdown",
   "metadata": {},
   "source": [
    "The previous commands showcase the way we can define variables and how we can check their type of variable, for that we're using the built-in [type function](https://www.w3resource.com/python/built-in-function/type.php) of python."
   ]
  },
  {
   "cell_type": "markdown",
   "metadata": {},
   "source": [
    "## Practical example\n",
    "\n",
    "No we will create a practical example, for this we will create a script that does the following:\n",
    "\n",
    "* Ask for a name from the user\n",
    "* Ask for their birth year\n",
    "* Show a greeting with the name the user typed in\n",
    "* Calculate and show their age based on the year they input and the current year"
   ]
  },
  {
   "cell_type": "code",
   "execution_count": 3,
   "metadata": {},
   "outputs": [],
   "source": [
    "# Let's ask for the name first and assign it to a variable\n",
    "name = input(\"Please type your name\\n\")\n",
    "# We're adding '\\n' at the end to add a new line in the input"
   ]
  },
  {
   "cell_type": "markdown",
   "metadata": {},
   "source": [
    "By default the `input` function returns a `string` value, since the next piece of data we need is the birth year, we need to explicitly convert it to an `integer` using the built-in [int](https://www.w3resource.com/python/built-in-function/int.php) function."
   ]
  },
  {
   "cell_type": "code",
   "execution_count": 4,
   "metadata": {},
   "outputs": [],
   "source": [
    "# We'll ask for the user's birth year and convert it to int\n",
    "birth_year = int(input(\"Please type in your birth year\\n\"))\n",
    "# Noticed that? We added the '\\n' character again for a new line"
   ]
  },
  {
   "cell_type": "markdown",
   "metadata": {},
   "source": [
    "To calculate the age of the user first we need to get the current year, for that we need to import the `datetime` module from the similarly named [datetime](https://docs.python.org/3/library/datetime.html) library."
   ]
  },
  {
   "cell_type": "code",
   "execution_count": 5,
   "metadata": {},
   "outputs": [],
   "source": [
    "from datetime import datetime"
   ]
  },
  {
   "cell_type": "markdown",
   "metadata": {},
   "source": [
    "Now this can be confusing but it's just that the library and the module have the same time, but that's not the only module in that library, there are many others that we might use in later examples.\n",
    "After the module is imported we just simply use the `now()` function in conjunction with the `year` function to get the current year."
   ]
  },
  {
   "cell_type": "code",
   "execution_count": 6,
   "metadata": {},
   "outputs": [],
   "source": [
    "current_year = datetime.now().year"
   ]
  },
  {
   "cell_type": "markdown",
   "metadata": {},
   "source": [
    "After that we just substract the birth year from the current year to get the current age."
   ]
  },
  {
   "cell_type": "code",
   "execution_count": 7,
   "metadata": {},
   "outputs": [],
   "source": [
    "current_age = current_year - birth_year"
   ]
  },
  {
   "cell_type": "markdown",
   "metadata": {},
   "source": [
    "After that we'll just print the greeting with the user's age."
   ]
  },
  {
   "cell_type": "code",
   "execution_count": 8,
   "metadata": {},
   "outputs": [
    {
     "name": "stdout",
     "output_type": "stream",
     "text": [
      "Hello there John, I see that you're 25 this 2021\n",
      "that's so cool!!!!\n"
     ]
    }
   ],
   "source": [
    "print(f\"Hello there {name}, I see that you're {current_age} this {current_year}\\nthat's so cool!!!!\")"
   ]
  },
  {
   "cell_type": "markdown",
   "metadata": {},
   "source": [
    "If you put all the code together you get something like the following."
   ]
  },
  {
   "cell_type": "code",
   "execution_count": 9,
   "metadata": {},
   "outputs": [
    {
     "name": "stdout",
     "output_type": "stream",
     "text": [
      "Hello there Jake, I see that you're 20 this 2021\n",
      "that's so cool!!!!\n"
     ]
    }
   ],
   "source": [
    "from datetime import datetime\n",
    "\n",
    "name = input(\"Please type your name\\n\")\n",
    "birth_year = int(input(\"Please type in your birth year\\n\"))\n",
    "current_year = datetime.now().year\n",
    "current_age = current_year - birth_year\n",
    "print(f\"Hello there {name}, I see that you're {current_age} this {current_year}\\nthat's so cool!!!!\")"
   ]
  },
  {
   "cell_type": "markdown",
   "metadata": {},
   "source": [
    "Notice anything different? That's right, we're importing the `datetime` module first, this is due to [Python coding conventions](https://www.python.org/dev/peps/pep-0008/#imports), all imports should be on the top of the file.\n",
    "\n",
    "With this we've created our first python script, stay tuned for more examples and lessons."
   ]
  }
 ],
 "metadata": {
  "interpreter": {
   "hash": "9f742384696c4f177bb1da80db38cdc0e70212f7e087094cdd5ad8f5d1035388"
  },
  "kernelspec": {
   "display_name": "Python 3.8.10 64-bit ('.env': venv)",
   "name": "python3"
  },
  "language_info": {
   "codemirror_mode": {
    "name": "ipython",
    "version": 3
   },
   "file_extension": ".py",
   "mimetype": "text/x-python",
   "name": "python",
   "nbconvert_exporter": "python",
   "pygments_lexer": "ipython3",
   "version": "3.8.10"
  },
  "orig_nbformat": 4
 },
 "nbformat": 4,
 "nbformat_minor": 2
}
